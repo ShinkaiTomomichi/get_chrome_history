{
 "cells": [
  {
   "cell_type": "markdown",
   "metadata": {},
   "source": [
    "# get_history\n",
    "\n",
    "* Chromeの履歴からYoutubeの動画情報を取得します"
   ]
  },
  {
   "cell_type": "code",
   "execution_count": 1,
   "metadata": {},
   "outputs": [],
   "source": [
    "# Pythonの基本ライブラリ\n",
    "import numpy as np\n",
    "import pandas as pd\n",
    "import matplotlib.pyplot as plt\n",
    "\n",
    "# ファイル操作\n",
    "import os\n",
    "import glob\n",
    "\n",
    "# 履歴データの取得\n",
    "import sqlite3\n",
    "from contextlib import closing\n",
    "from datetime import datetime\n",
    "\n",
    "# Jupyter上にHTMLを表示する\n",
    "from IPython.display import HTML\n",
    "\n",
    "# YoutubeAPIの利用\n",
    "from apiclient.discovery import build\n",
    "from apiclient.errors import HttpError\n",
    "\n",
    "# urlの解析\n",
    "from urllib.parse import urlparse"
   ]
  },
  {
   "cell_type": "code",
   "execution_count": 2,
   "metadata": {},
   "outputs": [],
   "source": [
    "# Chrome履歴の取得\n",
    "\n",
    "# ~/Library/Application\\ Support/Google/Chrome/Default/History をコピーしておく\n",
    "month = '202208'\n",
    "db = './input/History_'+month\n",
    "os.makedirs('./output/'+month, exist_ok=True)\n",
    "\n",
    "##### IMPLEMENTATION\n",
    "with closing(sqlite3.connect(db)) as conn:\n",
    "    select_sql = \"select visits.id, urls.url, urls.title, visits.visit_time,visits.from_visit from visits inner join urls on visits.url = urls.id\"\n",
    "    # select_sql = \"select * from visits\"\n",
    "    df = pd.read_sql(select_sql, conn)"
   ]
  },
  {
   "cell_type": "code",
   "execution_count": 3,
   "metadata": {},
   "outputs": [],
   "source": [
    "# visit_timeを扱いやすい形に変換\n",
    "dates = np.array(df['visit_time']/1000000-11644473600)\n",
    "df['visit_time_unixtime'] = dates\n",
    "\n",
    "dates_tmp = []\n",
    "for i, date in enumerate(dates):\n",
    "    dates_tmp.append(str(datetime.fromtimestamp(date)))\n",
    "df['visit_time_string'] = np.array(dates_tmp)"
   ]
  },
  {
   "cell_type": "code",
   "execution_count": 4,
   "metadata": {},
   "outputs": [],
   "source": [
    "# 不要な情報を削除\n",
    "df = df.drop(columns=['id', 'visit_time', 'from_visit'])"
   ]
  },
  {
   "cell_type": "code",
   "execution_count": 24,
   "metadata": {},
   "outputs": [],
   "source": [
    "outputPath = './output/'+month+'/history.csv'\n",
    "df.to_csv(outputPath, index=False)\n",
    "df = pd.read_csv(outputPath)\n",
    "# df.head()"
   ]
  },
  {
   "cell_type": "code",
   "execution_count": 8,
   "metadata": {},
   "outputs": [
    {
     "name": "stdout",
     "output_type": "stream",
     "text": [
      "uniqueな数: 413\n"
     ]
    }
   ],
   "source": [
    "urls = np.array(df['url'])\n",
    "\n",
    "url_locs = []\n",
    "for url in urls: \n",
    "    # URLをパースして位置を取得\n",
    "    parsed_url = urlparse(url)\n",
    "    url_locs.append(parsed_url.netloc)\n",
    "url_locs = np.array(url_locs)\n",
    "\n",
    "unique_url_locs, counts = np.unique(url_locs, return_counts=True)\n",
    "print(\"uniqueな数:\", counts.size)\n",
    "\n",
    "unique_url_locs = unique_url_locs[counts >= 50]\n",
    "counts = counts[counts >= 50]\n",
    "# print(\"頻繁に訪れるサイト:\", unique_url_locs)"
   ]
  },
  {
   "cell_type": "code",
   "execution_count": 9,
   "metadata": {},
   "outputs": [],
   "source": [
    "# domainごとにdfを分割する（今回はYoutubeのみ）\n",
    "df_youtube = df.query('url.str.contains(\"www.youtube.com\")')\n",
    "dfs = [df_youtube]"
   ]
  },
  {
   "cell_type": "code",
   "execution_count": 10,
   "metadata": {},
   "outputs": [
    {
     "data": {
      "image/png": "[encoded data removed]",
      "text/plain": [
       "<Figure size 640x480 with 1 Axes>"
      ]
     },
     "metadata": {},
     "output_type": "display_data"
    }
   ],
   "source": [
    "# histgramを作成\n",
    "# おおむねdailyごとに表示したい\n",
    "df_plot = dfs[0]\n",
    "\n",
    "# 日毎の閲覧数を可視化\n",
    "visit_times = np.array(df_plot['visit_time_string'])\n",
    "visit_times_day = []\n",
    "for visit_time in visit_times:\n",
    "    visit_times_day.append(visit_time[0:10])\n",
    "visit_times_day = np.array(visit_times_day)\n",
    "\n",
    "plt.hist(visit_times_day, bins=100, ec=\"k\")\n",
    "# dfs[0]['visit_time_unixtime'].hist(bins=np.unique(visit_times_day).size)\n",
    "plt.show()\n",
    "\n",
    "# TODO: 時間と要素ごとの可視化"
   ]
  },
  {
   "cell_type": "code",
   "execution_count": 11,
   "metadata": {},
   "outputs": [],
   "source": [
    "# サムネイルを表示する\n",
    "def output_html(urls, top_n=10):\n",
    "    if top_n <= 0:\n",
    "        top_n = videos.shape[0]\n",
    "        \n",
    "    indexes = np.arange(urls.shape[0])[0:top_n]\n",
    "    html = '<h1>動画一覧を表示</h1>'\n",
    "    html += '<div style=\"float:left;\">'\n",
    "    for i in indexes:\n",
    "        html += ('<img src=\"http://img.youtube.com/vi/'+urls[i]+'/sddefault.jpg \"alt=\"取得できませんでした\" width=\"200\">')\n",
    "        html += ('<a href=\"https://www.youtube.com/watch?v='+urls[i]+'\">'+urls[i]+'</a><br>')\n",
    "    html += '</div>'\n",
    "    return html"
   ]
  },
  {
   "cell_type": "code",
   "execution_count": 15,
   "metadata": {},
   "outputs": [
    {
     "data": {
      "text/html": [
       "<h1>動画一覧を表示</h1><div style=\"float:left;\"><img src=\"http://img.youtube.com/vi/kjCm636l9mo/sddefault.jpg \"alt=\"取得できませんでした\" width=\"200\"><a href=\"https://www.youtube.com/watch?v=kjCm636l9mo\">kjCm636l9mo</a><br><img src=\"http://img.youtube.com/vi/H1vf2vF1LmE/sddefault.jpg \"alt=\"取得できませんでした\" width=\"200\"><a href=\"https://www.youtube.com/watch?v=H1vf2vF1LmE\">H1vf2vF1LmE</a><br><img src=\"http://img.youtube.com/vi/U2Zy9_OAdEs/sddefault.jpg \"alt=\"取得できませんでした\" width=\"200\"><a href=\"https://www.youtube.com/watch?v=U2Zy9_OAdEs\">U2Zy9_OAdEs</a><br><img src=\"http://img.youtube.com/vi/lsFr7NzVVM8/sddefault.jpg \"alt=\"取得できませんでした\" width=\"200\"><a href=\"https://www.youtube.com/watch?v=lsFr7NzVVM8\">lsFr7NzVVM8</a><br><img src=\"http://img.youtube.com/vi/K-8KurA4SPE/sddefault.jpg \"alt=\"取得できませんでした\" width=\"200\"><a href=\"https://www.youtube.com/watch?v=K-8KurA4SPE\">K-8KurA4SPE</a><br></div>"
      ],
      "text/plain": [
       "<IPython.core.display.HTML object>"
      ]
     },
     "execution_count": 15,
     "metadata": {},
     "output_type": "execute_result"
    }
   ],
   "source": [
    "# 再生数ランキング\n",
    "urls_youtube = np.array(df.query('url.str.contains(\"https://www.youtube.com/watch?\")')['url'])\n",
    "\n",
    "video_ids = []\n",
    "for url in urls_youtube:\n",
    "    # &が入っていればそこまでの文字を取得\n",
    "    index = url.find('&')\n",
    "    if index == -1:\n",
    "        video_ids.append(url[32:])\n",
    "    else:\n",
    "        video_ids.append(url[32:index])\n",
    "video_ids = np.array(video_ids)\n",
    "\n",
    "unique_video_ids, counts = np.unique(video_ids, return_counts=True)\n",
    "# print(\"uniqueな動画数:\", unique_video_ids.size)\n",
    "\n",
    "ranking_idx = np.argsort(counts)[::-1]\n",
    "top_n = 5\n",
    "# print(\"ランキング:\", counts[ranking_idx][0:top_n])\n",
    "HTML(output_html(unique_video_ids[ranking_idx], top_n=top_n))"
   ]
  },
  {
   "cell_type": "code",
   "execution_count": 16,
   "metadata": {},
   "outputs": [],
   "source": [
    "# 再生時間を取得する\n",
    "visit_times_string = []\n",
    "for video_id in unique_video_ids:\n",
    "    df_video_id = df.query('url.str.contains(\"'+video_id+'\")')\n",
    "    visit_times_string.append(','.join(np.array(df_video_id['visit_time_string'])))"
   ]
  },
  {
   "cell_type": "code",
   "execution_count": 18,
   "metadata": {},
   "outputs": [],
   "source": [
    "# Youtube APIの準備\n",
    "\n",
    "# APIキーをファイルから取得\n",
    "f = open('../secret/apikey', 'r')\n",
    "api_key = f.read()\n",
    "f.close()\n",
    "\n",
    "# APIキーを用いてリクエスト用のクラスを作成\n",
    "YOUTUBE_API_SERVICE_NAME = \"youtube\"\n",
    "YOUTUBE_API_VERSION = \"v3\"\n",
    "youtube = build(YOUTUBE_API_SERVICE_NAME, YOUTUBE_API_VERSION, developerKey=api_key)"
   ]
  },
  {
   "cell_type": "code",
   "execution_count": 19,
   "metadata": {},
   "outputs": [],
   "source": [
    "# ISO表記の動画時間を秒に変換\n",
    "def pt2sec(pt_time):\n",
    "    s_list, m_list, h_list = [], [], []\n",
    "    conc_s, conc_m, conc_h = '', '', ''\n",
    "    flag = ''\n",
    "    \n",
    "    for i in reversed(pt_time):\n",
    "        if i == 'S':\n",
    "            flag = 'S'\n",
    "        elif i == 'M':\n",
    "            flag = 'M'\n",
    "        elif i == 'H':\n",
    "            flag = 'H'\n",
    "        elif i == 'T':\n",
    "            break\n",
    "        else:\n",
    "            if flag == 'S':\n",
    "                s_list.append(i)\n",
    "            elif flag == 'M':\n",
    "                m_list.append(i)\n",
    "            elif flag == 'H':\n",
    "                h_list.append(i)\n",
    "    \n",
    "    for s in reversed(s_list):\n",
    "        conc_s += s\n",
    "    for m in reversed(m_list):\n",
    "        conc_m += m\n",
    "    for h in reversed(h_list):\n",
    "        conc_h += h\n",
    "    conc_s = 0 if conc_s == '' else int(conc_s)\n",
    "    conc_m = 0 if conc_m == '' else int(conc_m)\n",
    "    conc_h = 0 if conc_h == '' else int(conc_h)\n",
    "\n",
    "    times = conc_h*3600 + conc_m*60 + conc_s\n",
    "    return times"
   ]
  },
  {
   "cell_type": "code",
   "execution_count": 21,
   "metadata": {},
   "outputs": [],
   "source": [
    "# 上記の動画idから新規でデータセットを作成\n",
    "\n",
    "# 動画のIDから詳細情報を取得する\n",
    "video_details = []\n",
    "for i, video_id in enumerate(unique_video_ids):\n",
    "    try:\n",
    "        video_detail = youtube.videos().list(\n",
    "            part = 'snippet,statistics,contentDetails', \n",
    "            id = video_id, \n",
    "        ).execute()\n",
    "    except HttpError as e:\n",
    "        print('エラーが発生しました')\n",
    "        # print(e)\n",
    "        break\n",
    "    \n",
    "    # 公開されていない動画など、取得できない場合がある\n",
    "    if len(video_detail['items']) == 0:\n",
    "        continue\n",
    "    video_snippet = video_detail['items'][0]['snippet']\n",
    "    video_statistics = video_detail['items'][0]['statistics']\n",
    "    video_content_details = video_detail['items'][0]['contentDetails']\n",
    "    # snippetから取得\n",
    "    date = video_snippet['publishedAt']\n",
    "    title = video_snippet['title']\n",
    "    channel_name = video_snippet['channelTitle']\n",
    "    channel_id = video_snippet['channelId']\n",
    "    description = video_snippet['description']\n",
    "    thumbnail = video_snippet['thumbnails']['high']['url']\n",
    "    category_id = video_snippet['categoryId']\n",
    "    # contentDetailsから取得\n",
    "    duration = pt2sec(video_content_details['duration'])\n",
    "    duration_origin = video_content_details['duration']\n",
    "    # statisticsから取得\n",
    "    # 評価数、コメントが非公開の場合は0で埋める\n",
    "    view_count = 0\n",
    "    like_count = 0\n",
    "    dislike_count = 0\n",
    "    comment_count = 0\n",
    "    if 'viewCount' in video_statistics.keys():\n",
    "        view_count = video_statistics['viewCount']\n",
    "    if 'likeCount' in video_statistics.keys():\n",
    "        like_count = video_statistics['likeCount']\n",
    "    if 'dislikeCount' in video_statistics.keys():\n",
    "        dislike_count = video_statistics['dislikeCount']\n",
    "    if 'commentCount' in video_statistics.keys():\n",
    "        comment_count = video_statistics['commentCount']\n",
    "    # リストのリストとして情報を格納する\n",
    "    video_details.append([video_id, channel_name, channel_id, date, title, \n",
    "                          thumbnail, category_id, duration, duration_origin, description, \n",
    "                          view_count, like_count, dislike_count, comment_count, \n",
    "                          counts[i], visit_times_string[i]])\n",
    "\n",
    "video_details_numpy = np.array(video_details)\n",
    "video_details_pandas = pd.DataFrame(data=video_details_numpy, \n",
    "                                    columns=['Id', 'Name', 'ChannelId', 'Date', 'Title', \n",
    "                                            'Thumbnail', 'CategoryId', 'Duration', 'DurationOriginal', 'Description',\n",
    "                                            'ViewCount', 'LikeCount', 'DislikeCount', 'CommentCount', \n",
    "                                            'MyViewCount', 'VisitTimes'])\n",
    "\n",
    "outputPath = './output/'+month+'/viewed_videos.csv'\n",
    "video_details_pandas.to_csv(outputPath, index=False)"
   ]
  },
  {
   "cell_type": "code",
   "execution_count": 23,
   "metadata": {},
   "outputs": [
    {
     "data": {
      "text/html": [
       "<div>\n",
       "<style scoped>\n",
       "    .dataframe tbody tr th:only-of-type {\n",
       "        vertical-align: middle;\n",
       "    }\n",
       "\n",
       "    .dataframe tbody tr th {\n",
       "        vertical-align: top;\n",
       "    }\n",
       "\n",
       "    .dataframe thead th {\n",
       "        text-align: right;\n",
       "    }\n",
       "</style>\n",
       "<table border=\"1\" class=\"dataframe\">\n",
       "  <thead>\n",
       "    <tr style=\"text-align: right;\">\n",
       "      <th></th>\n",
       "      <th>Id</th>\n",
       "      <th>Name</th>\n",
       "      <th>ChannelId</th>\n",
       "      <th>Date</th>\n",
       "      <th>Title</th>\n",
       "      <th>Thumbnail</th>\n",
       "      <th>CategoryId</th>\n",
       "      <th>Duration</th>\n",
       "      <th>DurationOriginal</th>\n",
       "      <th>Description</th>\n",
       "      <th>ViewCount</th>\n",
       "      <th>LikeCount</th>\n",
       "      <th>DislikeCount</th>\n",
       "      <th>CommentCount</th>\n",
       "      <th>MyViewCount</th>\n",
       "      <th>VisitTimes</th>\n",
       "    </tr>\n",
       "  </thead>\n",
       "  <tbody>\n",
       "    <tr>\n",
       "      <th>0</th>\n",
       "      <td>--sIuDN8Ciw</td>\n",
       "      <td>おとうふさん@0toufusan</td>\n",
       "      <td>UCaHMd-7x6bFe-YkVSWvVPpQ</td>\n",
       "      <td>2022-04-06T17:20:03Z</td>\n",
       "      <td>オッス！オラ おかゆ！</td>\n",
       "      <td>https://i.ytimg.com/vi/--sIuDN8Ciw/hqdefault.jpg</td>\n",
       "      <td>24</td>\n",
       "      <td>5</td>\n",
       "      <td>PT5S</td>\n",
       "      <td>Sources\\n【逆凸】特大ご褒美あり!?告知もあり!?イクゾ!!【 ＃猫又おかゆ3周年記...</td>\n",
       "      <td>255727</td>\n",
       "      <td>11584</td>\n",
       "      <td>0</td>\n",
       "      <td>64</td>\n",
       "      <td>1</td>\n",
       "      <td>2022-07-03 22:07:19.557396</td>\n",
       "    </tr>\n",
       "    <tr>\n",
       "      <th>1</th>\n",
       "      <td>--uUHn9GLUY</td>\n",
       "      <td>ヰ世界情緒 -Isekaijoucho-</td>\n",
       "      <td>UCah4_WVjmr8XA7i5aigwV-Q</td>\n",
       "      <td>2022-06-11T10:00:00Z</td>\n",
       "      <td>【歌ってみた】熱愛発覚中 / covered by ヰ世界情緒</td>\n",
       "      <td>https://i.ytimg.com/vi/--uUHn9GLUY/hqdefault.jpg</td>\n",
       "      <td>10</td>\n",
       "      <td>221</td>\n",
       "      <td>PT3M41S</td>\n",
       "      <td>わたしの好きな歌を歌います。46曲目。\\n\\n\\nカバーさせていただきました。\\n「熱愛発覚...</td>\n",
       "      <td>166063</td>\n",
       "      <td>7420</td>\n",
       "      <td>0</td>\n",
       "      <td>156</td>\n",
       "      <td>2</td>\n",
       "      <td>2022-06-13 12:17:31.491781,2022-06-13 12:34:15...</td>\n",
       "    </tr>\n",
       "  </tbody>\n",
       "</table>\n",
       "</div>"
      ],
      "text/plain": [
       "            Id                  Name                 ChannelId  \\\n",
       "0  --sIuDN8Ciw      おとうふさん@0toufusan  UCaHMd-7x6bFe-YkVSWvVPpQ   \n",
       "1  --uUHn9GLUY  ヰ世界情緒 -Isekaijoucho-  UCah4_WVjmr8XA7i5aigwV-Q   \n",
       "\n",
       "                   Date                            Title  \\\n",
       "0  2022-04-06T17:20:03Z                      オッス！オラ おかゆ！   \n",
       "1  2022-06-11T10:00:00Z  【歌ってみた】熱愛発覚中 / covered by ヰ世界情緒   \n",
       "\n",
       "                                          Thumbnail  CategoryId  Duration  \\\n",
       "0  https://i.ytimg.com/vi/--sIuDN8Ciw/hqdefault.jpg          24         5   \n",
       "1  https://i.ytimg.com/vi/--uUHn9GLUY/hqdefault.jpg          10       221   \n",
       "\n",
       "  DurationOriginal                                        Description  \\\n",
       "0             PT5S  Sources\\n【逆凸】特大ご褒美あり!?告知もあり!?イクゾ!!【 ＃猫又おかゆ3周年記...   \n",
       "1          PT3M41S  わたしの好きな歌を歌います。46曲目。\\n\\n\\nカバーさせていただきました。\\n「熱愛発覚...   \n",
       "\n",
       "   ViewCount  LikeCount  DislikeCount  CommentCount  MyViewCount  \\\n",
       "0     255727      11584             0            64            1   \n",
       "1     166063       7420             0           156            2   \n",
       "\n",
       "                                          VisitTimes  \n",
       "0                         2022-07-03 22:07:19.557396  \n",
       "1  2022-06-13 12:17:31.491781,2022-06-13 12:34:15...  "
      ]
     },
     "execution_count": 23,
     "metadata": {},
     "output_type": "execute_result"
    }
   ],
   "source": [
    "df_viewed = pd.read_csv(outputPath)\n",
    "df_viewed.head(2)"
   ]
  }
 ],
 "metadata": {
  "kernelspec": {
   "display_name": "study-youtube",
   "language": "python",
   "name": "study-youtube"
  },
  "language_info": {
   "codemirror_mode": {
    "name": "ipython",
    "version": 3
   },
   "file_extension": ".py",
   "mimetype": "text/x-python",
   "name": "python",
   "nbconvert_exporter": "python",
   "pygments_lexer": "ipython3",
   "version": "3.7.10"
  }
 },
 "nbformat": 4,
 "nbformat_minor": 4
}
