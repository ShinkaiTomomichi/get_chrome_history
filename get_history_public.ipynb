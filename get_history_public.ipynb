{
 "cells": [
  {
   "cell_type": "markdown",
   "metadata": {},
   "source": [
    "# get_history\n",
    "\n",
    "* Chromeの履歴から情報を取得します"
   ]
  },
  {
   "cell_type": "code",
   "execution_count": 1,
   "metadata": {},
   "outputs": [],
   "source": [
    "# Pythonの基本ライブラリ\n",
    "import numpy as np\n",
    "import pandas as pd\n",
    "import matplotlib.pyplot as plt\n",
    "\n",
    "# ファイル操作\n",
    "import os\n",
    "import glob\n",
    "\n",
    "# 履歴データの取得\n",
    "import sqlite3\n",
    "from contextlib import closing\n",
    "from datetime import datetime\n",
    "\n",
    "# Jupyter上にHTMLを表示する\n",
    "from IPython.display import HTML\n",
    "\n",
    "# YoutubeAPIの利用\n",
    "from apiclient.discovery import build\n",
    "from apiclient.errors import HttpError\n",
    "\n",
    "# urlの解析\n",
    "from urllib.parse import urlparse"
   ]
  },
  {
   "cell_type": "code",
   "execution_count": 2,
   "metadata": {},
   "outputs": [],
   "source": [
    "# Chrome履歴の取得\n",
    "\n",
    "# ~/Library/Application\\ Support/Google/Chrome/Default/History をコピーしておく\n",
    "db = './input/History_copy'\n",
    "\n",
    "with closing(sqlite3.connect(db)) as conn:\n",
    "    select_sql = \"select visits.id, urls.url, urls.title, visits.visit_time,visits.from_visit from visits inner join urls on visits.url = urls.id\"\n",
    "    # select_sql = \"select * from visits\"\n",
    "    df = pd.read_sql(select_sql, conn)"
   ]
  },
  {
   "cell_type": "code",
   "execution_count": 3,
   "metadata": {},
   "outputs": [],
   "source": [
    "# visit_timeを扱いやすい形に変換\n",
    "dates = np.array(df['visit_time']/1000000-11644473600)\n",
    "df['visit_time_unixtime'] = dates\n",
    "\n",
    "dates_tmp = []\n",
    "for i, date in enumerate(dates):\n",
    "    dates_tmp.append(str(datetime.fromtimestamp(date)))\n",
    "df['visit_time_string'] = np.array(dates_tmp)"
   ]
  },
  {
   "cell_type": "code",
   "execution_count": 4,
   "metadata": {},
   "outputs": [],
   "source": [
    "# 不要な情報を削除\n",
    "df = df.drop(columns=['id', 'visit_time', 'from_visit'])"
   ]
  },
  {
   "cell_type": "code",
   "execution_count": 5,
   "metadata": {},
   "outputs": [],
   "source": [
    "outputPath = './output/history.csv'\n",
    "df.to_csv(outputPath, index=False)\n",
    "df = pd.read_csv(outputPath)\n",
    "# df.head()"
   ]
  },
  {
   "cell_type": "code",
   "execution_count": 6,
   "metadata": {},
   "outputs": [],
   "source": [
    "urls = np.array(df['url'])\n",
    "\n",
    "url_locs = []\n",
    "for url in urls: \n",
    "    # URLをパースして位置を取得\n",
    "    parsed_url = urlparse(url)\n",
    "    url_locs.append(parsed_url.netloc)\n",
    "url_locs = np.array(url_locs)\n",
    "\n",
    "unique_url_locs, counts = np.unique(url_locs, return_counts=True)\n",
    "# print(\"uniqueな数:\", counts.size)\n",
    "\n",
    "unique_url_locs = unique_url_locs[counts >= 50]\n",
    "counts = counts[counts >= 50]\n",
    "# print(\"頻繁に訪れるサイト:\", unique_url_locs)"
   ]
  },
  {
   "cell_type": "code",
   "execution_count": 7,
   "metadata": {},
   "outputs": [],
   "source": [
    "# Youtubeのサムネイルを表示する\n",
    "def output_html(urls, top_n=10):\n",
    "    if top_n <= 0:\n",
    "        top_n = videos.shape[0]\n",
    "        \n",
    "    indexes = np.arange(urls.shape[0])[0:top_n]\n",
    "    html = '<h1>動画一覧を表示</h1>'\n",
    "    html += '<div style=\"float:left;\">'\n",
    "    for i in indexes:\n",
    "        html += ('<img src=\"http://img.youtube.com/vi/'+urls[i]+'/sddefault.jpg \"alt=\"取得できませんでした\" width=\"200\">')\n",
    "        html += ('<a href=\"https://www.youtube.com/watch?v='+urls[i]+'\">'+urls[i]+'</a><br>')\n",
    "    html += '</div>'\n",
    "    return html"
   ]
  },
  {
   "cell_type": "code",
   "execution_count": 8,
   "metadata": {},
   "outputs": [],
   "source": [
    "# youtubeの履歴を取得（動画ページのみ）\n",
    "urls_youtube = np.array(df.query('url.str.contains(\"https://www.youtube.com/watch?\")')['url'])\n",
    "\n",
    "video_ids = []\n",
    "for url in urls_youtube:\n",
    "    # &が入っていればそこまでの文字を取得\n",
    "    index = url.find('&')\n",
    "    if index == -1:\n",
    "        video_ids.append(url[32:])\n",
    "    else:\n",
    "        video_ids.append(url[32:index])\n",
    "video_ids = np.array(video_ids)\n",
    "\n",
    "unique_video_ids, counts = np.unique(video_ids, return_counts=True)\n",
    "# print(\"uniqueな動画数:\", unique_video_ids.size)\n",
    "\n",
    "ranking_idx = np.argsort(counts)[::-1]\n",
    "top_n = 3\n",
    "# HTML(output_html(urls_youtube_id_unique[ranking_idx], top_n=top_n))"
   ]
  },
  {
   "cell_type": "code",
   "execution_count": 9,
   "metadata": {},
   "outputs": [],
   "source": [
    "# 再生時間を取得する\n",
    "visit_times_string = []\n",
    "for video_id in unique_video_ids:\n",
    "    df_video_id = df.query('url.str.contains(\"'+video_id+'\")')\n",
    "    visit_times_string.append(','.join(np.array(df_video_id['visit_time_string'])))"
   ]
  },
  {
   "cell_type": "code",
   "execution_count": 10,
   "metadata": {},
   "outputs": [],
   "source": [
    "# Youtube APIの準備\n",
    "\n",
    "# APIキーをファイルから取得\n",
    "f = open('secret/apikey', 'r')\n",
    "api_key = f.read()\n",
    "f.close()\n",
    "\n",
    "# APIキーを用いてリクエスト用のクラスを作成\n",
    "YOUTUBE_API_SERVICE_NAME = \"youtube\"\n",
    "YOUTUBE_API_VERSION = \"v3\"\n",
    "youtube = build(YOUTUBE_API_SERVICE_NAME, YOUTUBE_API_VERSION, developerKey=api_key)"
   ]
  },
  {
   "cell_type": "code",
   "execution_count": 11,
   "metadata": {},
   "outputs": [],
   "source": [
    "# ISO表記の動画時間を秒に変換\n",
    "def pt2sec(pt_time):\n",
    "    s_list, m_list, h_list = [], [], []\n",
    "    conc_s, conc_m, conc_h = '', '', ''\n",
    "    flag = ''\n",
    "    \n",
    "    for i in reversed(pt_time):\n",
    "        if i == 'S':\n",
    "            flag = 'S'\n",
    "        elif i == 'M':\n",
    "            flag = 'M'\n",
    "        elif i == 'H':\n",
    "            flag = 'H'\n",
    "        elif i == 'T':\n",
    "            break\n",
    "        else:\n",
    "            if flag == 'S':\n",
    "                s_list.append(i)\n",
    "            elif flag == 'M':\n",
    "                m_list.append(i)\n",
    "            elif flag == 'H':\n",
    "                h_list.append(i)\n",
    "    \n",
    "    for s in reversed(s_list):\n",
    "        conc_s += s\n",
    "    for m in reversed(m_list):\n",
    "        conc_m += m\n",
    "    for h in reversed(h_list):\n",
    "        conc_h += h\n",
    "    conc_s = 0 if conc_s == '' else int(conc_s)\n",
    "    conc_m = 0 if conc_m == '' else int(conc_m)\n",
    "    conc_h = 0 if conc_h == '' else int(conc_h)\n",
    "\n",
    "    times = conc_h*3600 + conc_m*60 + conc_s\n",
    "    return times"
   ]
  },
  {
   "cell_type": "code",
   "execution_count": 89,
   "metadata": {},
   "outputs": [],
   "source": [
    "# 上記の動画idから新規でデータセットを作成\n",
    "\n",
    "# 動画のIDから詳細情報を取得する\n",
    "video_details = []\n",
    "for i, video_id in enumerate(unique_video_ids):\n",
    "    try:\n",
    "        video_detail = youtube.videos().list(\n",
    "            part = 'snippet,statistics,contentDetails', \n",
    "            id = video_id, \n",
    "        ).execute()\n",
    "    except HttpError as e:\n",
    "        print('エラーが発生しました')\n",
    "        print(e)\n",
    "        break\n",
    "    \n",
    "    # 公開されていない動画など、取得できない場合がある\n",
    "    if len(video_detail['items']) == 0:\n",
    "        continue\n",
    "    video_snippet = video_detail['items'][0]['snippet']\n",
    "    video_statistics = video_detail['items'][0]['statistics']\n",
    "    video_content_details = video_detail['items'][0]['contentDetails']\n",
    "    # snippetから取得\n",
    "    date = video_snippet['publishedAt']\n",
    "    title = video_snippet['title']\n",
    "    channel_name = video_snippet['channelTitle']\n",
    "    channel_id = video_snippet['channelId']\n",
    "    thumbnail = video_snippet['thumbnails']['high']['url']\n",
    "    category_id = video_snippet['categoryId']\n",
    "    # contentDetailsから取得\n",
    "    duration = pt2sec(video_content_details['duration'])\n",
    "    duration_origin = video_content_details['duration']\n",
    "    # statisticsから取得\n",
    "    # 評価数、コメントが非公開の場合は0で埋める\n",
    "    view_count = 0\n",
    "    like_count = 0\n",
    "    dislike_count = 0\n",
    "    comment_count = 0\n",
    "    if 'viewCount' in video_statistics.keys():\n",
    "        view_count = video_statistics['viewCount']\n",
    "    if 'likeCount' in video_statistics.keys():\n",
    "        like_count = video_statistics['likeCount']\n",
    "    if 'dislikeCount' in video_statistics.keys():\n",
    "        dislike_count = video_statistics['dislikeCount']\n",
    "    if 'commentCount' in video_statistics.keys():\n",
    "        comment_count = video_statistics['commentCount']\n",
    "    # リストのリストとして情報を格納する\n",
    "    video_details.append([video_id, channel_name, channel_id, date, title, \n",
    "                          thumbnail, category_id, duration, duration_origin, \n",
    "                          view_count, like_count, dislike_count, comment_count, \n",
    "                          counts[i], visit_times_string[i]])\n",
    "\n",
    "video_details_numpy = np.array(video_details)\n",
    "video_details_pandas = pd.DataFrame(data=video_details_numpy, \n",
    "                                    columns=['Id', 'Name', 'ChannelId', 'Date', 'Title', \n",
    "                                            'Thumbnail', 'CategoryId', 'Duration', 'DurationOriginal', \n",
    "                                            'ViewCount', 'LikeCount', 'DislikeCount', 'CommentCount', \n",
    "                                            'MyViewCount', 'VisitTimes'])\n",
    "\n",
    "outputPath = './output/viewed_videos.csv'\n",
    "video_details_pandas.to_csv(outputPath, index=False)"
   ]
  },
  {
   "cell_type": "code",
   "execution_count": 12,
   "metadata": {},
   "outputs": [],
   "source": [
    "outputPath = './output/viewed_videos.csv'\n",
    "df_viewed = pd.read_csv(outputPath)\n",
    "# df_viewed.head(2)"
   ]
  }
 ],
 "metadata": {
  "kernelspec": {
   "display_name": "study-youtube",
   "language": "python",
   "name": "study-youtube"
  },
  "language_info": {
   "codemirror_mode": {
    "name": "ipython",
    "version": 3
   },
   "file_extension": ".py",
   "mimetype": "text/x-python",
   "name": "python",
   "nbconvert_exporter": "python",
   "pygments_lexer": "ipython3",
   "version": "3.7.10"
  }
 },
 "nbformat": 4,
 "nbformat_minor": 4
}
