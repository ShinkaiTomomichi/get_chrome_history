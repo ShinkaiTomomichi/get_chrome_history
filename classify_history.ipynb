{
 "cells": [
  {
   "cell_type": "markdown",
   "metadata": {},
   "source": [
    "# classify_history\n",
    "\n",
    "* 履歴の動画を歌動画とそうでないものに分類します"
   ]
  },
  {
   "cell_type": "code",
   "execution_count": 36,
   "metadata": {},
   "outputs": [],
   "source": [
    "# Pythonの基本ライブラリ\n",
    "import numpy as np\n",
    "import pandas as pd\n",
    "import matplotlib.pyplot as plt\n",
    "\n",
    "# ファイル操作\n",
    "import os\n",
    "import glob\n",
    "\n",
    "# Jupyter上にHTMLを表示する\n",
    "from IPython.display import HTML\n",
    "\n",
    "# 画像の保存\n",
    "import requests\n",
    "\n",
    "# 機械学習\n",
    "from transformers import BertJapaneseTokenizer, BertForSequenceClassification\n",
    "from sklearn.model_selection import train_test_split\n",
    "from sklearn.linear_model import LogisticRegression\n",
    "from sklearn.utils import shuffle\n",
    "# LightGBMは精度の向上が見込め無さそうなので削除\n",
    "# import lightgbm as lgb"
   ]
  },
  {
   "cell_type": "markdown",
   "metadata": {},
   "source": [
    "## アノテーション\n",
    "\n",
    "* 追加したデータを訓練データとして扱う場合は以下でアノテーションしてください\n",
    "* テストデータとして利用する場合は、以下の実行は不要です"
   ]
  },
  {
   "cell_type": "code",
   "execution_count": null,
   "metadata": {},
   "outputs": [],
   "source": [
    "# ラベリング用に画像を作成\n",
    "os.makedirs('./train/unlabeled/thumbnails/', exist_ok=True)\n",
    "os.makedirs('./train/label_0/thumbnails/', exist_ok=True)\n",
    "os.makedirs('./train/label_1/thumbnails/', exist_ok=True)\n",
    "\n",
    "for i, row in filetered_df_viewed.iterrows():\n",
    "    video_id, title, thumbnail = row['Id'], row['Title'], row['Thumbnail']\n",
    "    \n",
    "    response = requests.get(thumbnail)\n",
    "    image = response.content\n",
    "    \n",
    "    title = title.replace('/', '')\n",
    "    file_name = './train/unlabeled/thumbnails/'+title+'&separate&'+video_id+'.png'\n",
    "    with open(file_name, \"wb\") as write_file:\n",
    "        write_file.write(image)"
   ]
  },
  {
   "cell_type": "markdown",
   "metadata": {},
   "source": [
    "* ここで生成された画像ファイルをlabel_0, label_1に振り分け"
   ]
  },
  {
   "cell_type": "code",
   "execution_count": null,
   "metadata": {},
   "outputs": [],
   "source": [
    "# ラベリングされた動画からテーブルを作成し直す\n",
    "video_ids = np.array(filetered_df_viewed['Id'])\n",
    "labels = np.zeros(video_ids.size, dtype=int)\n",
    "for label in range(2):\n",
    "    file_names = glob.glob('./train/thumbnails/label_'+str(label)+'/*')\n",
    "    for i, file_name in enumerate(file_names):\n",
    "        video_id = file_name.split('&separate&')[1].replace('.png', '')        \n",
    "        idx = np.where(video_ids == video_id)[0][0]\n",
    "        labels[idx] = label\n",
    "\n",
    "filetered_df_viewed['Label'] = labels\n",
    "\n",
    "filetered_df_viewed = filetered_df_viewed.reset_index()\n",
    "filetered_df_viewed = filetered_df_viewed.drop(['index'], axis=1)\n",
    "\n",
    "# Descriptionがnullのデータを補完\n",
    "filetered_df_viewed = filetered_df_viewed.fillna({'Description': 'Descriptionが記入されていません'})\n",
    "# filetered_df_viewed = filetered_df_viewed.replace({'Description': {'NULL': 'Descriptionが記入されていません'}})\n",
    "filetered_df_viewed.to_csv('./train/videos/labeled_viewed_videos.csv', index=False)"
   ]
  },
  {
   "cell_type": "markdown",
   "metadata": {},
   "source": [
    "## 分類器の作成\n",
    "* アノテーションしない場合はここから実施してください"
   ]
  },
  {
   "cell_type": "code",
   "execution_count": 25,
   "metadata": {},
   "outputs": [
    {
     "data": {
      "text/html": [
       "<div>\n",
       "<style scoped>\n",
       "    .dataframe tbody tr th:only-of-type {\n",
       "        vertical-align: middle;\n",
       "    }\n",
       "\n",
       "    .dataframe tbody tr th {\n",
       "        vertical-align: top;\n",
       "    }\n",
       "\n",
       "    .dataframe thead th {\n",
       "        text-align: right;\n",
       "    }\n",
       "</style>\n",
       "<table border=\"1\" class=\"dataframe\">\n",
       "  <thead>\n",
       "    <tr style=\"text-align: right;\">\n",
       "      <th></th>\n",
       "      <th>Id</th>\n",
       "      <th>Name</th>\n",
       "      <th>ChannelId</th>\n",
       "      <th>Date</th>\n",
       "      <th>Title</th>\n",
       "      <th>Thumbnail</th>\n",
       "      <th>CategoryId</th>\n",
       "      <th>Duration</th>\n",
       "      <th>DurationOriginal</th>\n",
       "      <th>Description</th>\n",
       "      <th>ViewCount</th>\n",
       "      <th>LikeCount</th>\n",
       "      <th>DislikeCount</th>\n",
       "      <th>CommentCount</th>\n",
       "      <th>MyViewCount</th>\n",
       "      <th>VisitTimes</th>\n",
       "      <th>Label</th>\n",
       "    </tr>\n",
       "  </thead>\n",
       "  <tbody>\n",
       "    <tr>\n",
       "      <th>0</th>\n",
       "      <td>--uUHn9GLUY</td>\n",
       "      <td>ヰ世界情緒 -Isekaijoucho-</td>\n",
       "      <td>UCah4_WVjmr8XA7i5aigwV-Q</td>\n",
       "      <td>2022-06-11T10:00:00Z</td>\n",
       "      <td>【歌ってみた】熱愛発覚中 / covered by ヰ世界情緒</td>\n",
       "      <td>https://i.ytimg.com/vi/--uUHn9GLUY/hqdefault.jpg</td>\n",
       "      <td>10</td>\n",
       "      <td>221</td>\n",
       "      <td>PT3M41S</td>\n",
       "      <td>わたしの好きな歌を歌います。46曲目。\\n\\n\\nカバーさせていただきました。\\n「熱愛発覚...</td>\n",
       "      <td>126236</td>\n",
       "      <td>6998</td>\n",
       "      <td>0</td>\n",
       "      <td>153</td>\n",
       "      <td>2</td>\n",
       "      <td>2022-06-13 12:17:31.491781,2022-06-13 12:34:15...</td>\n",
       "      <td>1</td>\n",
       "    </tr>\n",
       "    <tr>\n",
       "      <th>1</th>\n",
       "      <td>-7mkO-IpY1Y</td>\n",
       "      <td>ば一ちゃるこれくしょん</td>\n",
       "      <td>UCbKfih0vuc_UOJDOi5C-riw</td>\n",
       "      <td>2022-06-23T12:29:48Z</td>\n",
       "      <td>【借りてきたイッヌ】ソニックアンバサダーに就任、さらに吹替版声優としてデビューしたころさん【...</td>\n",
       "      <td>https://i.ytimg.com/vi/-7mkO-IpY1Y/hqdefault.jpg</td>\n",
       "      <td>24</td>\n",
       "      <td>220</td>\n",
       "      <td>PT3M40S</td>\n",
       "      <td>▼元動画▼\\nソニックステーションLIVE！ソニックバースデー＆『ソニックオリジンズ』発売記...</td>\n",
       "      <td>50223</td>\n",
       "      <td>904</td>\n",
       "      <td>0</td>\n",
       "      <td>68</td>\n",
       "      <td>1</td>\n",
       "      <td>2022-06-24 00:11:19.072884</td>\n",
       "      <td>0</td>\n",
       "    </tr>\n",
       "  </tbody>\n",
       "</table>\n",
       "</div>"
      ],
      "text/plain": [
       "            Id                  Name                 ChannelId  \\\n",
       "0  --uUHn9GLUY  ヰ世界情緒 -Isekaijoucho-  UCah4_WVjmr8XA7i5aigwV-Q   \n",
       "1  -7mkO-IpY1Y           ば一ちゃるこれくしょん  UCbKfih0vuc_UOJDOi5C-riw   \n",
       "\n",
       "                   Date                                              Title  \\\n",
       "0  2022-06-11T10:00:00Z                    【歌ってみた】熱愛発覚中 / covered by ヰ世界情緒   \n",
       "1  2022-06-23T12:29:48Z  【借りてきたイッヌ】ソニックアンバサダーに就任、さらに吹替版声優としてデビューしたころさん【...   \n",
       "\n",
       "                                          Thumbnail  CategoryId  Duration  \\\n",
       "0  https://i.ytimg.com/vi/--uUHn9GLUY/hqdefault.jpg          10       221   \n",
       "1  https://i.ytimg.com/vi/-7mkO-IpY1Y/hqdefault.jpg          24       220   \n",
       "\n",
       "  DurationOriginal                                        Description  \\\n",
       "0          PT3M41S  わたしの好きな歌を歌います。46曲目。\\n\\n\\nカバーさせていただきました。\\n「熱愛発覚...   \n",
       "1          PT3M40S  ▼元動画▼\\nソニックステーションLIVE！ソニックバースデー＆『ソニックオリジンズ』発売記...   \n",
       "\n",
       "   ViewCount  LikeCount  DislikeCount  CommentCount  MyViewCount  \\\n",
       "0     126236       6998             0           153            2   \n",
       "1      50223        904             0            68            1   \n",
       "\n",
       "                                          VisitTimes  Label  \n",
       "0  2022-06-13 12:17:31.491781,2022-06-13 12:34:15...      1  \n",
       "1                         2022-06-24 00:11:19.072884      0  "
      ]
     },
     "execution_count": 25,
     "metadata": {},
     "output_type": "execute_result"
    }
   ],
   "source": [
    "# 訓練データを取得\n",
    "df_train = pd.read_csv('./train/videos/labeled_viewed_videos.csv')\n",
    "df_train.head(2)"
   ]
  },
  {
   "cell_type": "code",
   "execution_count": 10,
   "metadata": {},
   "outputs": [],
   "source": [
    "# トークナイザの準備\n",
    "MODEL_NAME = 'cl-tohoku/bert-base-japanese-whole-word-masking'\n",
    "tokenizer = BertJapaneseTokenizer.from_pretrained(MODEL_NAME)\n",
    "# print(bert_sc.config) # 語彙数が32000であることを確認"
   ]
  },
  {
   "cell_type": "code",
   "execution_count": 11,
   "metadata": {},
   "outputs": [],
   "source": [
    "def make_feature(row, unique_channel_id, unique_category_id):\n",
    "    text = row['Title'] + row['Description']\n",
    "        \n",
    "    encoding = tokenizer(\n",
    "        text,\n",
    "        max_length=max_length, \n",
    "        padding='max_length',\n",
    "        truncation=True\n",
    "    )\n",
    "    \n",
    "    input_ids = encoding['input_ids']\n",
    "    input_ids = np.unique(input_ids) # countは一旦無視してuniqueにする\n",
    "    input_ids = input_ids[input_ids>=5] # [PAD], [UNK], [CLS], [SEP], [MASK]を削除\n",
    "    \n",
    "    words = np.zeros(32000)\n",
    "    words[input_ids] = 1\n",
    "    \n",
    "    channel_id = row['ChannelId']\n",
    "    if channel_id in unique_channel_id:\n",
    "        channel_onehot = np.eye(unique_channel_id.size)[unique_channel_id == channel_id][0]\n",
    "    else:\n",
    "        channel_onehot = np.zeros(unique_channel_id.size)\n",
    "    \n",
    "    category_id = row['CategoryId']\n",
    "    if category_id in unique_category_id:\n",
    "        category_onehot = np.eye(unique_category_id.size)[unique_category_id == category_id][0]\n",
    "    else:\n",
    "        category_onehot = np.zeros(unique_category_id.size)\n",
    "    \n",
    "    # scaleが違うので外しておく\n",
    "    # duration = row['Duration']\n",
    "    # view_count = row['ViewCount']\n",
    "    # like_count = row['LikeCount']\n",
    "    # comment_count = row['CommentCount']\n",
    "    # stats = np.array([duration, view_count, like_count, comment_count])\n",
    "    return np.concatenate([words, channel_onehot, category_onehot], 0)"
   ]
  },
  {
   "cell_type": "code",
   "execution_count": 14,
   "metadata": {},
   "outputs": [],
   "source": [
    "# 単語分割して学習データを作成\n",
    "\n",
    "max_length = 512 # 最大で512\n",
    "X_train, Y_train = [], []\n",
    "# ここはモデルを利用する際に保存しておく必要がある\n",
    "unique_channel_id = np.unique(np.array(df_train['ChannelId']))\n",
    "unique_category_id = np.unique(np.array(df_train['CategoryId']))\n",
    "\n",
    "for i, row in df_train.iterrows():\n",
    "    X_row = make_feature(row, unique_channel_id, unique_category_id)\n",
    "    X_train.append(X_row)\n",
    "    Y_train.append(row['Label'])\n",
    "\n",
    "X_train = np.array(X_train)\n",
    "# 不要な特徴量を削除（計算量が重くなってきたら利用する）\n",
    "# no_use_idx = np.where(np.sum(X, axis=0) == 0)[0]\n",
    "# print(no_use_idx)\n",
    "# X = np.delete(X, no_use_idx, 1)\n",
    "\n",
    "Y_train = np.array(Y_train)"
   ]
  },
  {
   "cell_type": "code",
   "execution_count": 13,
   "metadata": {},
   "outputs": [
    {
     "name": "stdout",
     "output_type": "stream",
     "text": [
      "k-cross-validation : 1 / 5\n",
      "k-cross-validation : 2 / 5\n",
      "k-cross-validation : 3 / 5\n",
      "k-cross-validation : 4 / 5\n",
      "k-cross-validation : 5 / 5\n",
      "CV Accuracy 0.9616519174041298\n"
     ]
    }
   ],
   "source": [
    "# CVによりモデルを評価\n",
    "def cross_validation(X, Y, k=5):\n",
    "    # XとYをシャッフル\n",
    "    X, Y = shuffle(X, Y, random_state=0)\n",
    "    \n",
    "    # XとYをk分割\n",
    "    n = X.shape[0]\n",
    "    X_devs, Y_devs = [], []\n",
    "    for i in range(k):\n",
    "        if i != k-1:\n",
    "            X_dev, Y_dev = X[i*(n//5):(i+1)*(n//5)], Y[i*(n//5):(i+1)*(n//5)]\n",
    "        else:\n",
    "            X_dev, Y_dev = X[i*(n//5):], Y[i*(n//5):]\n",
    "        X_devs.append(X_dev)\n",
    "        Y_devs.append(Y_dev)\n",
    "        \n",
    "    # 1つをvalidation, 1つをテストとしてテスト誤差を計算する\n",
    "    test_accuracy = 0\n",
    "    for i in range(k):\n",
    "        print('k-cross-validation :', i+1, '/', k)\n",
    "        X_train_tmp, Y_train_tmp = [], []\n",
    "        for j in range(k-2):\n",
    "            X_train_tmp.append(X_devs[(i+j)%k])\n",
    "            Y_train_tmp.append(Y_devs[(i+j)%k])\n",
    "        X_train = np.concatenate(X_train_tmp)\n",
    "        Y_train = np.concatenate(Y_train_tmp)\n",
    "        X_val, Y_val = X_devs[(i+k-2)%k], Y_devs[(i+k-2)%k]\n",
    "        X_test, Y_test = X_devs[(i+k-1)%k], Y_devs[(i+k-1)%k]\n",
    "        \n",
    "        lr = LogisticRegression(penalty='l1', solver='liblinear')\n",
    "        lr.fit(X_train, Y_train)    \n",
    "        Y_pred = lr.predict(X_val)\n",
    "        test_accuracy_k = np.sum(Y_pred==Y_val)\n",
    "        test_accuracy += test_accuracy_k \n",
    "\n",
    "    return test_accuracy/n\n",
    "\n",
    "print('CV Accuracy', cross_validation(X_train, Y_train))"
   ]
  },
  {
   "cell_type": "markdown",
   "metadata": {},
   "source": [
    "## 予測"
   ]
  },
  {
   "cell_type": "code",
   "execution_count": 28,
   "metadata": {},
   "outputs": [
    {
     "data": {
      "text/html": [
       "<div>\n",
       "<style scoped>\n",
       "    .dataframe tbody tr th:only-of-type {\n",
       "        vertical-align: middle;\n",
       "    }\n",
       "\n",
       "    .dataframe tbody tr th {\n",
       "        vertical-align: top;\n",
       "    }\n",
       "\n",
       "    .dataframe thead th {\n",
       "        text-align: right;\n",
       "    }\n",
       "</style>\n",
       "<table border=\"1\" class=\"dataframe\">\n",
       "  <thead>\n",
       "    <tr style=\"text-align: right;\">\n",
       "      <th></th>\n",
       "      <th>Id</th>\n",
       "      <th>Name</th>\n",
       "      <th>ChannelId</th>\n",
       "      <th>Date</th>\n",
       "      <th>Title</th>\n",
       "      <th>Thumbnail</th>\n",
       "      <th>CategoryId</th>\n",
       "      <th>Duration</th>\n",
       "      <th>DurationOriginal</th>\n",
       "      <th>Description</th>\n",
       "      <th>ViewCount</th>\n",
       "      <th>LikeCount</th>\n",
       "      <th>DislikeCount</th>\n",
       "      <th>CommentCount</th>\n",
       "      <th>MyViewCount</th>\n",
       "      <th>VisitTimes</th>\n",
       "    </tr>\n",
       "  </thead>\n",
       "  <tbody>\n",
       "    <tr>\n",
       "      <th>1</th>\n",
       "      <td>--uUHn9GLUY</td>\n",
       "      <td>ヰ世界情緒 -Isekaijoucho-</td>\n",
       "      <td>UCah4_WVjmr8XA7i5aigwV-Q</td>\n",
       "      <td>2022-06-11T10:00:00Z</td>\n",
       "      <td>【歌ってみた】熱愛発覚中 / covered by ヰ世界情緒</td>\n",
       "      <td>https://i.ytimg.com/vi/--uUHn9GLUY/hqdefault.jpg</td>\n",
       "      <td>10</td>\n",
       "      <td>221</td>\n",
       "      <td>PT3M41S</td>\n",
       "      <td>わたしの好きな歌を歌います。46曲目。\\n\\n\\nカバーさせていただきました。\\n「熱愛発覚...</td>\n",
       "      <td>166063</td>\n",
       "      <td>7420</td>\n",
       "      <td>0</td>\n",
       "      <td>156</td>\n",
       "      <td>2</td>\n",
       "      <td>2022-06-13 12:17:31.491781,2022-06-13 12:34:15...</td>\n",
       "    </tr>\n",
       "    <tr>\n",
       "      <th>2</th>\n",
       "      <td>-7mkO-IpY1Y</td>\n",
       "      <td>ば一ちゃるこれくしょん</td>\n",
       "      <td>UCbKfih0vuc_UOJDOi5C-riw</td>\n",
       "      <td>2022-06-23T12:29:48Z</td>\n",
       "      <td>【借りてきたイッヌ】ソニックアンバサダーに就任、さらに吹替版声優としてデビューしたころさん【...</td>\n",
       "      <td>https://i.ytimg.com/vi/-7mkO-IpY1Y/hqdefault.jpg</td>\n",
       "      <td>24</td>\n",
       "      <td>220</td>\n",
       "      <td>PT3M40S</td>\n",
       "      <td>▼元動画▼\\nソニックステーションLIVE！ソニックバースデー＆『ソニックオリジンズ』発売記...</td>\n",
       "      <td>50712</td>\n",
       "      <td>913</td>\n",
       "      <td>0</td>\n",
       "      <td>70</td>\n",
       "      <td>1</td>\n",
       "      <td>2022-06-24 00:11:19.072884</td>\n",
       "    </tr>\n",
       "  </tbody>\n",
       "</table>\n",
       "</div>"
      ],
      "text/plain": [
       "            Id                  Name                 ChannelId  \\\n",
       "1  --uUHn9GLUY  ヰ世界情緒 -Isekaijoucho-  UCah4_WVjmr8XA7i5aigwV-Q   \n",
       "2  -7mkO-IpY1Y           ば一ちゃるこれくしょん  UCbKfih0vuc_UOJDOi5C-riw   \n",
       "\n",
       "                   Date                                              Title  \\\n",
       "1  2022-06-11T10:00:00Z                    【歌ってみた】熱愛発覚中 / covered by ヰ世界情緒   \n",
       "2  2022-06-23T12:29:48Z  【借りてきたイッヌ】ソニックアンバサダーに就任、さらに吹替版声優としてデビューしたころさん【...   \n",
       "\n",
       "                                          Thumbnail  CategoryId  Duration  \\\n",
       "1  https://i.ytimg.com/vi/--uUHn9GLUY/hqdefault.jpg          10       221   \n",
       "2  https://i.ytimg.com/vi/-7mkO-IpY1Y/hqdefault.jpg          24       220   \n",
       "\n",
       "  DurationOriginal                                        Description  \\\n",
       "1          PT3M41S  わたしの好きな歌を歌います。46曲目。\\n\\n\\nカバーさせていただきました。\\n「熱愛発覚...   \n",
       "2          PT3M40S  ▼元動画▼\\nソニックステーションLIVE！ソニックバースデー＆『ソニックオリジンズ』発売記...   \n",
       "\n",
       "   ViewCount  LikeCount  DislikeCount  CommentCount  MyViewCount  \\\n",
       "1     166063       7420             0           156            2   \n",
       "2      50712        913             0            70            1   \n",
       "\n",
       "                                          VisitTimes  \n",
       "1  2022-06-13 12:17:31.491781,2022-06-13 12:34:15...  \n",
       "2                         2022-06-24 00:11:19.072884  "
      ]
     },
     "execution_count": 28,
     "metadata": {},
     "output_type": "execute_result"
    }
   ],
   "source": [
    "# テストデータを取得\n",
    "month = '202208'\n",
    "input_path = './output/'+month+'/viewed_videos.csv'\n",
    "non_filtered_df_test = pd.read_csv(input_path)\n",
    "df_test.head(2)"
   ]
  },
  {
   "cell_type": "code",
   "execution_count": 29,
   "metadata": {},
   "outputs": [
    {
     "name": "stdout",
     "output_type": "stream",
     "text": [
      "再生時間によるフィルタリング後： 647\n"
     ]
    }
   ],
   "source": [
    "# Descriptionがnullのデータを補完\n",
    "non_filtered_df_test = non_filtered_df_test.fillna({'Description': 'Descriptionが記入されていません'})\n",
    "\n",
    "# 適当に時間でフィルタリングして確認する\n",
    "df_test = non_filtered_df_test[np.logical_and(non_filtered_df_test['Duration']<480, non_filtered_df_test['Duration']>90)]\n",
    "print(\"再生時間によるフィルタリング後：\", df_test.shape[0])"
   ]
  },
  {
   "cell_type": "code",
   "execution_count": 30,
   "metadata": {},
   "outputs": [],
   "source": [
    "# ここで新規データの予測\n",
    "\n",
    "max_length = 512 # 最大で512\n",
    "X_test = []\n",
    "\n",
    "for i, row in df_test.iterrows():\n",
    "    X_row = make_feature(row, unique_channel_id, unique_category_id)\n",
    "    X_test.append(X_row)\n",
    "X_test = np.array(X_test)"
   ]
  },
  {
   "cell_type": "code",
   "execution_count": 31,
   "metadata": {},
   "outputs": [
    {
     "data": {
      "text/plain": [
       "LogisticRegression(penalty='l1', solver='liblinear')"
      ]
     },
     "execution_count": 31,
     "metadata": {},
     "output_type": "execute_result"
    }
   ],
   "source": [
    "lr = LogisticRegression(penalty='l1', solver='liblinear')\n",
    "lr.fit(X_train, Y_train)"
   ]
  },
  {
   "cell_type": "code",
   "execution_count": 32,
   "metadata": {},
   "outputs": [],
   "source": [
    "Y_test = lr.predict(X_test)"
   ]
  },
  {
   "cell_type": "code",
   "execution_count": 35,
   "metadata": {},
   "outputs": [
    {
     "name": "stderr",
     "output_type": "stream",
     "text": [
      "/Users/shinkaitomomichi/opt/anaconda3/envs/study-youtube/lib/python3.7/site-packages/ipykernel_launcher.py:1: SettingWithCopyWarning: \n",
      "A value is trying to be set on a copy of a slice from a DataFrame.\n",
      "Try using .loc[row_indexer,col_indexer] = value instead\n",
      "\n",
      "See the caveats in the documentation: https://pandas.pydata.org/pandas-docs/stable/user_guide/indexing.html#returning-a-view-versus-a-copy\n",
      "  \"\"\"Entry point for launching an IPython kernel.\n"
     ]
    }
   ],
   "source": [
    "df_test['Label'] = Y_test\n",
    "df_test.to_csv('./output/'+month+'/labeled_viewed_videos.csv', index=False)"
   ]
  }
 ],
 "metadata": {
  "kernelspec": {
   "display_name": "study-youtube",
   "language": "python",
   "name": "study-youtube"
  },
  "language_info": {
   "codemirror_mode": {
    "name": "ipython",
    "version": 3
   },
   "file_extension": ".py",
   "mimetype": "text/x-python",
   "name": "python",
   "nbconvert_exporter": "python",
   "pygments_lexer": "ipython3",
   "version": "3.7.10"
  }
 },
 "nbformat": 4,
 "nbformat_minor": 4
}
